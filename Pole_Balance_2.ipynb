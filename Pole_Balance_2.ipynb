{
  "nbformat": 4,
  "nbformat_minor": 0,
  "metadata": {
    "colab": {
      "provenance": [],
      "authorship_tag": "ABX9TyP3IOZ2lBLiU+hNLfYJrQHk",
      "include_colab_link": true
    },
    "kernelspec": {
      "name": "python3",
      "display_name": "Python 3"
    },
    "language_info": {
      "name": "python"
    }
  },
  "cells": [
    {
      "cell_type": "markdown",
      "metadata": {
        "id": "view-in-github",
        "colab_type": "text"
      },
      "source": [
        "<a href=\"https://colab.research.google.com/github/Tinkybala/pole-balancing/blob/main/Pole_Balance_2.ipynb\" target=\"_parent\"><img src=\"https://colab.research.google.com/assets/colab-badge.svg\" alt=\"Open In Colab\"/></a>"
      ]
    },
    {
      "cell_type": "code",
      "execution_count": 1,
      "metadata": {
        "colab": {
          "base_uri": "https://localhost:8080/",
          "height": 747
        },
        "id": "IoqZushQyrwk",
        "outputId": "3bd841cc-75f7-4183-99f3-fbb21740f755"
      },
      "outputs": [
        {
          "output_type": "stream",
          "name": "stdout",
          "text": [
            "Requirement already satisfied: gym[classic_control] in /usr/local/lib/python3.11/dist-packages (0.25.2)\n",
            "Requirement already satisfied: numpy>=1.18.0 in /usr/local/lib/python3.11/dist-packages (from gym[classic_control]) (1.26.4)\n",
            "Requirement already satisfied: cloudpickle>=1.2.0 in /usr/local/lib/python3.11/dist-packages (from gym[classic_control]) (3.1.1)\n",
            "Requirement already satisfied: gym_notices>=0.0.4 in /usr/local/lib/python3.11/dist-packages (from gym[classic_control]) (0.0.8)\n",
            "Collecting pygame==2.1.0 (from gym[classic_control])\n",
            "  Downloading pygame-2.1.0.tar.gz (5.8 MB)\n",
            "\u001b[2K     \u001b[90m━━━━━━━━━━━━━━━━━━━━━━━━━━━━━━━━━━━━━━━━\u001b[0m \u001b[32m5.8/5.8 MB\u001b[0m \u001b[31m32.9 MB/s\u001b[0m eta \u001b[36m0:00:00\u001b[0m\n",
            "\u001b[?25h  \u001b[1;31merror\u001b[0m: \u001b[1msubprocess-exited-with-error\u001b[0m\n",
            "  \n",
            "  \u001b[31m×\u001b[0m \u001b[32mpython setup.py egg_info\u001b[0m did not run successfully.\n",
            "  \u001b[31m│\u001b[0m exit code: \u001b[1;36m1\u001b[0m\n",
            "  \u001b[31m╰─>\u001b[0m See above for output.\n",
            "  \n",
            "  \u001b[1;35mnote\u001b[0m: This error originates from a subprocess, and is likely not a problem with pip.\n",
            "  Preparing metadata (setup.py) ... \u001b[?25l\u001b[?25herror\n",
            "\u001b[1;31merror\u001b[0m: \u001b[1mmetadata-generation-failed\u001b[0m\n",
            "\n",
            "\u001b[31m×\u001b[0m Encountered error while generating package metadata.\n",
            "\u001b[31m╰─>\u001b[0m See above for output.\n",
            "\n",
            "\u001b[1;35mnote\u001b[0m: This is an issue with the package mentioned above, not pip.\n",
            "\u001b[1;36mhint\u001b[0m: See above for details.\n",
            "Requirement already satisfied: setuptools in /usr/local/lib/python3.11/dist-packages (75.1.0)\n",
            "Collecting setuptools\n",
            "  Downloading setuptools-75.8.2-py3-none-any.whl.metadata (6.7 kB)\n",
            "Downloading setuptools-75.8.2-py3-none-any.whl (1.2 MB)\n",
            "\u001b[2K   \u001b[90m━━━━━━━━━━━━━━━━━━━━━━━━━━━━━━━━━━━━━━━━\u001b[0m \u001b[32m1.2/1.2 MB\u001b[0m \u001b[31m16.5 MB/s\u001b[0m eta \u001b[36m0:00:00\u001b[0m\n",
            "\u001b[?25hInstalling collected packages: setuptools\n",
            "  Attempting uninstall: setuptools\n",
            "    Found existing installation: setuptools 75.1.0\n",
            "    Uninstalling setuptools-75.1.0:\n",
            "      Successfully uninstalled setuptools-75.1.0\n",
            "\u001b[31mERROR: pip's dependency resolver does not currently take into account all the packages that are installed. This behaviour is the source of the following dependency conflicts.\n",
            "ipython 7.34.0 requires jedi>=0.16, which is not installed.\u001b[0m\u001b[31m\n",
            "\u001b[0mSuccessfully installed setuptools-75.8.2\n"
          ]
        },
        {
          "output_type": "display_data",
          "data": {
            "application/vnd.colab-display-data+json": {
              "pip_warning": {
                "packages": [
                  "_distutils_hack"
                ]
              },
              "id": "d4a9c0bc37564fa29f0a4e929507af64"
            }
          },
          "metadata": {}
        }
      ],
      "source": [
        "!apt-get install -y xvfb python-opengl > /dev/null 2>&1\n",
        "!pip install gym pyvirtualdisplay > /dev/null 2>&1\n",
        "!pip install gym pyvirtualdisplay > /dev/null 2>&1\n",
        "!apt-get install -y xvfb python-opengl ffmpeg > /dev/null 2>&1\n",
        "!pip install gym[classic_control]\n",
        "!apt-get update > /dev/null 2>&1\n",
        "!apt-get install cmake > /dev/null 2>&1\n",
        "!pip install --upgrade setuptools 2>&1\n",
        "!pip install ez_setup > /dev/null 2>&1"
      ]
    },
    {
      "cell_type": "code",
      "source": [
        "import gym\n",
        "from gym import logger as gymlogger\n",
        "from gym.wrappers import RecordVideo\n",
        "gymlogger.set_level(40) #error only\n",
        "import tensorflow as tf\n",
        "import numpy as np\n",
        "import random\n",
        "import matplotlib\n",
        "import matplotlib.pyplot as plt\n",
        "%matplotlib inline\n",
        "import math\n",
        "import glob\n",
        "import io\n",
        "import base64\n",
        "from IPython.display import HTML\n",
        "from IPython import display as ipythondisplay\n",
        "\n",
        "def show_video():\n",
        "  mp4list = glob.glob('video/*.mp4')\n",
        "  if len(mp4list) > 0:\n",
        "    mp4 = mp4list[0]\n",
        "    video = io.open(mp4, 'r+b').read()\n",
        "    encoded = base64.b64encode(video)\n",
        "    ipythondisplay.display(HTML(data='''<video alt=\"test\" autoplay\n",
        "                loop controls style=\"height: 400px;\">\n",
        "                <source src=\"data:video/mp4;base64,{0}\" type=\"video/mp4\" />\n",
        "             </video>'''.format(encoded.decode('ascii'))))\n",
        "  else:\n",
        "    print(\"Could not find video\")"
      ],
      "metadata": {
        "id": "Brhx2lfjyuDZ"
      },
      "execution_count": 2,
      "outputs": []
    },
    {
      "cell_type": "code",
      "source": [
        "env = gym.make(\"CartPole-v1\")"
      ],
      "metadata": {
        "id": "ibR4dtOvy3Q5"
      },
      "execution_count": 3,
      "outputs": []
    },
    {
      "cell_type": "code",
      "source": [
        "from collections import defaultdict"
      ],
      "metadata": {
        "id": "txhmw6cIz6PN"
      },
      "execution_count": 4,
      "outputs": []
    },
    {
      "cell_type": "code",
      "source": [
        "def bin_index(value, type, n_bins):\n",
        "  if type == 1 or type == 3:\n",
        "    min_val = -4\n",
        "    max_val = 4\n",
        "  else:\n",
        "    min_val = env.observation_space.low[type]\n",
        "    max_val = env.observation_space.high[type]\n",
        "  bin_index = math.floor(((value - min_val) / (max_val - min_val)) * n_bins)\n",
        "\n",
        "  bin_index = min(bin_index, n_bins - 1)\n",
        "  bin_index = max(bin_index, 0)\n",
        "\n",
        "  return bin_index"
      ],
      "metadata": {
        "id": "xl4TE1wz0DZU"
      },
      "execution_count": 10,
      "outputs": []
    },
    {
      "cell_type": "code",
      "source": [
        "def policy(observation, ε):\n",
        "  if np.random.rand() < ε:\n",
        "    action = env.action_space.sample()  # Random action\n",
        "  else:\n",
        "      action = np.argmax(Q[observation])  # Greedy action\n",
        "  return action"
      ],
      "metadata": {
        "id": "5ZbCPf7Q8S_R"
      },
      "execution_count": 11,
      "outputs": []
    },
    {
      "cell_type": "markdown",
      "source": [
        "# Using Eligibility Traces"
      ],
      "metadata": {
        "id": "v_eb7Qq3uHIk"
      }
    },
    {
      "cell_type": "code",
      "source": [
        "episodes = 100\n",
        "α = 1\n",
        "γ = 0.9\n",
        "Q = defaultdict(lambda: np.zeros(2).tolist())\n",
        "bins = [1,1,8,20]\n",
        "ε = 1\n",
        "ε_decay = 0.92; ε_min = 0.01\n",
        "α_decay = 0.92; α_min = 0.05\n",
        "λ = 0.4\n",
        "\n",
        "\n",
        "\n",
        "rewards = []\n",
        "alpha = []\n",
        "epsilon = []\n",
        "\n",
        "#initialise S, A\n",
        "observation = env.reset()\n",
        "observation = tuple(map(lambda x : bin_index(x[1], x[0], bins[x[0]]), enumerate(observation))) #convert observation to discrete states\n",
        "action = policy(observation, ε)\n",
        "\n",
        "for episode in range(episodes):\n",
        "  E = defaultdict(lambda: np.zeros(2).tolist()) # The eligiblity trace\n",
        "  observation = env.reset()\n",
        "  observation = tuple(map(lambda x : bin_index(x[1], x[0], bins[x[0]]), enumerate(observation)))\n",
        "  cumulative_reward = 0\n",
        "  done = False\n",
        "  alpha.append(α)\n",
        "  epsilon.append(ε)\n",
        "  while not done:\n",
        "    next_observation, reward, done, info = env.step(action) #Take action A, observe R, S'\n",
        "    initial_reward = reward\n",
        "    # Additional rewards if agent is a good boi\n",
        "    if (abs(next_observation[2]) <= 0.087):  # reward small angle\n",
        "      reward += 0.5\n",
        "      #print(\"reward\")\n",
        "    else: reward -= 1\n",
        "\n",
        "    if (abs(next_observation[3]) <= 1): #reward low angular velocity\n",
        "      reward += 0.5\n",
        "    else: reward -= 1\n",
        "      #print(\"reward\")\n",
        "\n",
        "\n",
        "    next_observation = tuple(map(lambda x : bin_index(x[1], x[0], bins[x[0]]), enumerate(next_observation))) #convert next_observation to discrete states\n",
        "\n",
        "    chosen_action = policy(next_observation, ε) #Choose A' from S' using policy derived from Q (argmax for now)\n",
        "    best_action = np.argmax(Q[next_observation]) # A∗ = argmax Q(S′, a)\n",
        "\n",
        "\n",
        "\n",
        "    δ  = reward + γ * max(Q[next_observation]) - Q[observation][action] #This is the TD error δ = R + γQ(S′, A∗) − Q(S, A)\n",
        "    E[observation][action] += 1 # accumulating trace\n",
        "\n",
        "    #Update states based on action\n",
        "    for s in E:\n",
        "      #left\n",
        "      Q[s][0] += α * δ * E[s][0]\n",
        "      if chosen_action == best_action:\n",
        "        E[s][0] = γ * λ * E[s][0]\n",
        "      else:\n",
        "        E[s][0] = 0\n",
        "      #right\n",
        "      Q[s][1] += α * δ * E[s][1]\n",
        "      if chosen_action == best_action:\n",
        "        E[s][1] = γ * λ * E[s][1]\n",
        "      else:\n",
        "        E[s][1] = 0\n",
        "    cumulative_reward += initial_reward\n",
        "    action = chosen_action # A = A'\n",
        "    observation = next_observation # S = S'\n",
        "  print(\"Episode:\", episode, \"Cumulative reward:\", cumulative_reward)\n",
        "  #schedulers\n",
        "  α = max(α_min, α * α_decay)\n",
        "  ε = max(ε_min, ε * ε_decay)\n",
        "  rewards.append(cumulative_reward)"
      ],
      "metadata": {
        "colab": {
          "base_uri": "https://localhost:8080/"
        },
        "id": "hU1qNhO2B1qn",
        "outputId": "92bbe93b-e1ea-4dba-ca2a-0f54f979abdf"
      },
      "execution_count": 257,
      "outputs": [
        {
          "output_type": "stream",
          "name": "stdout",
          "text": [
            "Episode: 0 Cumulative reward: 13.0\n",
            "Episode: 1 Cumulative reward: 19.0\n",
            "Episode: 2 Cumulative reward: 12.0\n",
            "Episode: 3 Cumulative reward: 28.0\n",
            "Episode: 4 Cumulative reward: 12.0\n",
            "Episode: 5 Cumulative reward: 26.0\n",
            "Episode: 6 Cumulative reward: 80.0\n",
            "Episode: 7 Cumulative reward: 70.0\n",
            "Episode: 8 Cumulative reward: 10.0\n",
            "Episode: 9 Cumulative reward: 29.0\n",
            "Episode: 10 Cumulative reward: 59.0\n",
            "Episode: 11 Cumulative reward: 142.0\n",
            "Episode: 12 Cumulative reward: 65.0\n",
            "Episode: 13 Cumulative reward: 76.0\n",
            "Episode: 14 Cumulative reward: 28.0\n",
            "Episode: 15 Cumulative reward: 47.0\n",
            "Episode: 16 Cumulative reward: 47.0\n",
            "Episode: 17 Cumulative reward: 179.0\n",
            "Episode: 18 Cumulative reward: 138.0\n",
            "Episode: 19 Cumulative reward: 79.0\n",
            "Episode: 20 Cumulative reward: 89.0\n",
            "Episode: 21 Cumulative reward: 225.0\n",
            "Episode: 22 Cumulative reward: 93.0\n",
            "Episode: 23 Cumulative reward: 500.0\n",
            "Episode: 24 Cumulative reward: 500.0\n",
            "Episode: 25 Cumulative reward: 408.0\n",
            "Episode: 26 Cumulative reward: 500.0\n",
            "Episode: 27 Cumulative reward: 500.0\n",
            "Episode: 28 Cumulative reward: 500.0\n",
            "Episode: 29 Cumulative reward: 500.0\n",
            "Episode: 30 Cumulative reward: 500.0\n",
            "Episode: 31 Cumulative reward: 500.0\n",
            "Episode: 32 Cumulative reward: 500.0\n",
            "Episode: 33 Cumulative reward: 258.0\n",
            "Episode: 34 Cumulative reward: 133.0\n",
            "Episode: 35 Cumulative reward: 500.0\n",
            "Episode: 36 Cumulative reward: 187.0\n",
            "Episode: 37 Cumulative reward: 246.0\n",
            "Episode: 38 Cumulative reward: 45.0\n",
            "Episode: 39 Cumulative reward: 239.0\n",
            "Episode: 40 Cumulative reward: 19.0\n",
            "Episode: 41 Cumulative reward: 33.0\n",
            "Episode: 42 Cumulative reward: 32.0\n",
            "Episode: 43 Cumulative reward: 39.0\n",
            "Episode: 44 Cumulative reward: 298.0\n",
            "Episode: 45 Cumulative reward: 210.0\n",
            "Episode: 46 Cumulative reward: 208.0\n",
            "Episode: 47 Cumulative reward: 500.0\n",
            "Episode: 48 Cumulative reward: 500.0\n",
            "Episode: 49 Cumulative reward: 500.0\n",
            "Episode: 50 Cumulative reward: 500.0\n",
            "Episode: 51 Cumulative reward: 500.0\n",
            "Episode: 52 Cumulative reward: 500.0\n",
            "Episode: 53 Cumulative reward: 500.0\n",
            "Episode: 54 Cumulative reward: 500.0\n",
            "Episode: 55 Cumulative reward: 500.0\n",
            "Episode: 56 Cumulative reward: 500.0\n",
            "Episode: 57 Cumulative reward: 500.0\n",
            "Episode: 58 Cumulative reward: 500.0\n",
            "Episode: 59 Cumulative reward: 500.0\n",
            "Episode: 60 Cumulative reward: 500.0\n",
            "Episode: 61 Cumulative reward: 500.0\n",
            "Episode: 62 Cumulative reward: 500.0\n",
            "Episode: 63 Cumulative reward: 500.0\n",
            "Episode: 64 Cumulative reward: 500.0\n",
            "Episode: 65 Cumulative reward: 500.0\n",
            "Episode: 66 Cumulative reward: 500.0\n",
            "Episode: 67 Cumulative reward: 500.0\n",
            "Episode: 68 Cumulative reward: 500.0\n",
            "Episode: 69 Cumulative reward: 500.0\n",
            "Episode: 70 Cumulative reward: 500.0\n",
            "Episode: 71 Cumulative reward: 500.0\n",
            "Episode: 72 Cumulative reward: 500.0\n",
            "Episode: 73 Cumulative reward: 500.0\n",
            "Episode: 74 Cumulative reward: 500.0\n",
            "Episode: 75 Cumulative reward: 500.0\n",
            "Episode: 76 Cumulative reward: 500.0\n",
            "Episode: 77 Cumulative reward: 500.0\n",
            "Episode: 78 Cumulative reward: 500.0\n",
            "Episode: 79 Cumulative reward: 500.0\n",
            "Episode: 80 Cumulative reward: 500.0\n",
            "Episode: 81 Cumulative reward: 500.0\n",
            "Episode: 82 Cumulative reward: 500.0\n",
            "Episode: 83 Cumulative reward: 500.0\n",
            "Episode: 84 Cumulative reward: 500.0\n",
            "Episode: 85 Cumulative reward: 500.0\n",
            "Episode: 86 Cumulative reward: 500.0\n",
            "Episode: 87 Cumulative reward: 500.0\n",
            "Episode: 88 Cumulative reward: 500.0\n",
            "Episode: 89 Cumulative reward: 500.0\n",
            "Episode: 90 Cumulative reward: 500.0\n",
            "Episode: 91 Cumulative reward: 500.0\n",
            "Episode: 92 Cumulative reward: 500.0\n",
            "Episode: 93 Cumulative reward: 500.0\n",
            "Episode: 94 Cumulative reward: 500.0\n",
            "Episode: 95 Cumulative reward: 500.0\n",
            "Episode: 96 Cumulative reward: 500.0\n",
            "Episode: 97 Cumulative reward: 500.0\n",
            "Episode: 98 Cumulative reward: 500.0\n",
            "Episode: 99 Cumulative reward: 500.0\n"
          ]
        }
      ]
    },
    {
      "cell_type": "code",
      "source": [
        "np.mean(rewards)"
      ],
      "metadata": {
        "colab": {
          "base_uri": "https://localhost:8080/"
        },
        "id": "tN_TR7zpC4pV",
        "outputId": "78be3ef4-edc5-4cc8-d7bf-fe885045e22f"
      },
      "execution_count": 258,
      "outputs": [
        {
          "output_type": "execute_result",
          "data": {
            "text/plain": [
              "354.21"
            ]
          },
          "metadata": {},
          "execution_count": 258
        }
      ]
    },
    {
      "cell_type": "code",
      "source": [
        "plt.plot(rewards)"
      ],
      "metadata": {
        "colab": {
          "base_uri": "https://localhost:8080/",
          "height": 448
        },
        "id": "DOmm_-NeB4_0",
        "outputId": "86382163-45be-4388-9816-63d41223f6e2"
      },
      "execution_count": 259,
      "outputs": [
        {
          "output_type": "execute_result",
          "data": {
            "text/plain": [
              "[<matplotlib.lines.Line2D at 0x7a4639c3e690>]"
            ]
          },
          "metadata": {},
          "execution_count": 259
        },
        {
          "output_type": "display_data",
          "data": {
            "text/plain": [
              "<Figure size 640x480 with 1 Axes>"
            ],
            "image/png": "[encoded data removed]"
          },
          "metadata": {}
        }
      ]
    },
    {
      "cell_type": "markdown",
      "source": [
        "# Determine mean rewards"
      ],
      "metadata": {
        "id": "R_eSq_j1KmDp"
      }
    },
    {
      "cell_type": "code",
      "source": [
        "rewards = []\n",
        "for i in range(100):\n",
        "  observation = env.reset()\n",
        "  done = False\n",
        "  observed_reward = 0\n",
        "  while not done:\n",
        "    observation = tuple(map(lambda x : bin_index(x[1], x[0], bins[x[0]]), enumerate(observation)))\n",
        "    action = np.argmax(Q[observation])\n",
        "    observation, reward, done, info = env.step(action)\n",
        "    observed_reward += reward\n",
        "  rewards.append(observed_reward)\n"
      ],
      "metadata": {
        "colab": {
          "base_uri": "https://localhost:8080/",
          "height": 181
        },
        "id": "7ESOlAMDKtOh",
        "outputId": "9173d4a0-db91-49b1-b170-11ac66f34344"
      },
      "execution_count": 262,
      "outputs": [
        {
          "output_type": "error",
          "ename": "NameError",
          "evalue": "name 'mean' is not defined",
          "traceback": [
            "\u001b[0;31m---------------------------------------------------------------------------\u001b[0m",
            "\u001b[0;31mNameError\u001b[0m                                 Traceback (most recent call last)",
            "\u001b[0;32m<ipython-input-262-d94c3625ca7f>\u001b[0m in \u001b[0;36m<cell line: 0>\u001b[0;34m()\u001b[0m\n\u001b[1;32m     11\u001b[0m   \u001b[0mrewards\u001b[0m\u001b[0;34m.\u001b[0m\u001b[0mappend\u001b[0m\u001b[0;34m(\u001b[0m\u001b[0mobserved_reward\u001b[0m\u001b[0;34m)\u001b[0m\u001b[0;34m\u001b[0m\u001b[0;34m\u001b[0m\u001b[0m\n\u001b[1;32m     12\u001b[0m \u001b[0;34m\u001b[0m\u001b[0m\n\u001b[0;32m---> 13\u001b[0;31m \u001b[0mmean\u001b[0m\u001b[0;34m(\u001b[0m\u001b[0mrewards\u001b[0m\u001b[0;34m)\u001b[0m\u001b[0;34m\u001b[0m\u001b[0;34m\u001b[0m\u001b[0m\n\u001b[0m",
            "\u001b[0;31mNameError\u001b[0m: name 'mean' is not defined"
          ]
        }
      ]
    },
    {
      "cell_type": "code",
      "source": [
        "np.mean(rewards)"
      ],
      "metadata": {
        "colab": {
          "base_uri": "https://localhost:8080/"
        },
        "id": "1nopyEMEMXoD",
        "outputId": "bc1d632e-13ca-4dd8-c33a-3bf6cf33a8b2"
      },
      "execution_count": 265,
      "outputs": [
        {
          "output_type": "execute_result",
          "data": {
            "text/plain": [
              "500.0"
            ]
          },
          "metadata": {},
          "execution_count": 265
        }
      ]
    },
    {
      "cell_type": "markdown",
      "source": [
        "# Video"
      ],
      "metadata": {
        "id": "fBouPEHhKvkj"
      }
    },
    {
      "cell_type": "code",
      "source": [
        "env = RecordVideo(gym.make(\"CartPole-v1\"), \"./video\")\n",
        "observation = env.reset()\n",
        "i = 0\n",
        "while True:\n",
        "    i += 1\n",
        "    env.render()\n",
        "    #your agent goes here\n",
        "    observation = tuple(map(lambda x : bin_index(x[1], x[0], bins[x[0]]), enumerate(observation)))\n",
        "    action =  np.argmax(Q[observation])\n",
        "    observation, reward, done, info = env.step(action)\n",
        "    if done:\n",
        "      break;\n",
        "env.close()\n",
        "show_video()"
      ],
      "metadata": {
        "colab": {
          "base_uri": "https://localhost:8080/",
          "height": 457
        },
        "id": "rxdkXqLlCMU4",
        "outputId": "429a4d36-5326-442f-bb5f-8e5ae38b838f"
      },
      "execution_count": 260,
      "outputs": [
        {
          "output_type": "stream",
          "name": "stderr",
          "text": [
            "/usr/local/lib/python3.11/dist-packages/gym/utils/passive_env_checker.py:241: DeprecationWarning: `np.bool8` is a deprecated alias for `np.bool_`.  (Deprecated NumPy 1.24)\n",
            "  if not isinstance(terminated, (bool, np.bool8)):\n"
          ]
        },
        {
          "output_type": "display_data",
          "data": {
            "text/plain": [
              "<IPython.core.display.HTML object>"
            ],
            "text/html": [
              "<video alt=\"test\" autoplay\n",
              "                loop controls style=\"height: 400px;\">\n",
              "                <source src=\"data:video/mp4;base64,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\" type=\"video/mp4\" />\n",
              "             </video>"
            ]
          },
          "metadata": {}
        }
      ]
    },
    {
      "cell_type": "code",
      "source": [],
      "metadata": {
        "id": "F6m-6uY-FEwH"
      },
      "execution_count": null,
      "outputs": []
    }
  ]
}